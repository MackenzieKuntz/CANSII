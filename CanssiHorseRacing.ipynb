{
  "cells": [
    {
      "cell_type": "markdown",
      "metadata": {
        "id": "yM-k43ENHXGx"
      },
      "source": [
        "**Description of Parameters**\n",
        "\n",
        "Standard Columns (known before race)\n",
        "\n",
        "\n",
        "* AgeRestriction: Age of horse allowed to participate in the race\n",
        "* Barrier: Position in the starting stall, 0 being the inner most lane\n",
        "* ClassRestriction:\n",
        "* CourseIndicator:\n",
        "* Dam ID: ID of the mother of the horse\n",
        "* Distance: Length of the race in metres\n",
        "* Foaling Country: The country the horse was born in\n",
        "* Foaling Date: The day the horse was born\n",
        "* FrontShoes:\n",
        "* Gender:\n",
        "* GoingAbbrey\n",
        "* GoingID\n",
        "* HandicapDistance\n",
        "* HandicapType\n",
        "* HindShoes:\n",
        "* HorseAge\n",
        "* HorseID\n",
        "* JockeyID\n",
        "* RaceGroup\n",
        "* RaceID\n",
        "* RacePrizemoney\n",
        "* RaceStartTime\n",
        "* RacingSubType\n",
        "* Saddlecloth\n",
        "* SexRestriction: M if male only race, F if female only race\n",
        "* SireID: ID of the father of the horse\n",
        "* StartType\n",
        "* StartingLine\n",
        "* Surface\n",
        "* TrackID\n",
        "* TrainerID\n",
        "* WeightCarried\n",
        "* WetnessScale\n",
        "\n",
        "\n",
        "Performace (result of the race)\n",
        "\n",
        "\n",
        "*   BeatenMargin: number of horse lengths the horse has been beaten by?\n",
        "*   Disqualified: True if horse was disqualified, False if it was not. Some examples include:\n",
        "  * Gallop\n",
        "  * Trap\n",
        "  * Aubin\n",
        "  * Pace\n",
        "* FinishPosition: Place finished in the race or reason for not placing\n",
        "  * BS = Break Stride\n",
        "  * PU = Pulled Up\n",
        "  * FL = Fell\n",
        "  * NP = Took no Part\n",
        "\n",
        "* PIRPosition\n",
        "* Prizemoney\n",
        "* RaceOverallTime\n",
        "* PriceSP\n",
        "* NoFrontCover\n",
        "* PositionInRunning\n",
        "* WideOffRail\n",
        "\n",
        "\n",
        "\n",
        "\n",
        "\n"
      ]
    },
    {
      "cell_type": "code",
      "execution_count": 151,
      "metadata": {
        "id": "kF8mDw_VLmz9"
      },
      "outputs": [],
      "source": [
        "# Import Packages\n",
        "import numpy as np\n",
        "import pandas as pd\n",
        "import pyarrow.parquet as pq\n",
        "\n",
        "from sklearn.datasets import make_classification\n",
        "from sklearn.linear_model import LogisticRegression"
      ]
    },
    {
      "cell_type": "code",
      "execution_count": 152,
      "metadata": {
        "id": "akttjlPYPchF"
      },
      "outputs": [],
      "source": [
        "# read data file\n",
        "df = pd.read_parquet(\"trots_2013-2022.parquet\", engine = 'pyarrow')"
      ]
    },
    {
      "cell_type": "markdown",
      "metadata": {
        "id": "xqfegF7N6_ZP"
      },
      "source": [
        "**Data Cleaning and Preprocessing**\n"
      ]
    },
    {
      "cell_type": "code",
      "execution_count": 153,
      "metadata": {
        "id": "mEkQg-s80L2m"
      },
      "outputs": [],
      "source": [
        "# drop class restriction\n",
        "df = df.drop(columns=[\"ClassRestriction\"])"
      ]
    },
    {
      "cell_type": "code",
      "execution_count": 154,
      "metadata": {
        "id": "q3XLNkdd_Se8"
      },
      "outputs": [],
      "source": [
        "# break age restriction into lower age limit and upper age limit\n",
        "df[\"LowerAge\"] = df[\"AgeRestriction\"].astype(str).str[0]\n",
        "df[\"LowerAge\"] = df[\"LowerAge\"].replace(\"P\", 9)\n",
        "df[\"LowerAge\"] = pd.to_numeric(df[\"LowerAge\"])\n",
        "df[\"LowerAge\"] = df[\"LowerAge\"].fillna(0)\n",
        "df[\"UpperAge\"] = df[\"AgeRestriction\"].astype(str).str.replace(\"yo\", \"\").astype(str).str[-1]\n",
        "df[\"UpperAge\"] = df[\"UpperAge\"].replace('0', 10)\n",
        "df[\"UpperAge\"] = df[\"UpperAge\"].replace(\"+\", 15)\n",
        "df[\"UpperAge\"] = pd.to_numeric(df[\"UpperAge\"])\n",
        "df[\"UpperAge\"] = df[\"UpperAge\"].fillna(20)\n",
        "df = df.drop(columns = [\"AgeRestriction\"])"
      ]
    },
    {
      "cell_type": "code",
      "execution_count": 155,
      "metadata": {
        "id": "CUQf7Z0ZqkOb"
      },
      "outputs": [],
      "source": [
        "# break race start time into year, month, day, hour, and minute\n",
        "df[\"RaceStartYear\"] = df[\"RaceStartTime\"].dt.year\n",
        "df[\"RaceStartMonth\"] = df[\"RaceStartTime\"].dt.month\n",
        "df[\"RaceStartDay\"] = df[\"RaceStartTime\"].dt.day\n",
        "df[\"RaceStartHour\"] = df[\"RaceStartTime\"].dt.hour\n",
        "df[\"RaceStartMinute\"] = df[\"RaceStartTime\"].dt.minute"
      ]
    },
    {
      "cell_type": "code",
      "execution_count": 156,
      "metadata": {
        "id": "BM3OU9knx59g"
      },
      "outputs": [],
      "source": [
        "# break foaling date into year, month, and day\n",
        "df[\"FoalingDateYear\"] = df[\"FoalingDate\"].dt.year\n",
        "df[\"FoalingDateMonth\"] = df[\"FoalingDate\"].dt.month\n",
        "df[\"FoalingDateDay\"] = df[\"FoalingDate\"].dt.day"
      ]
    },
    {
      "cell_type": "code",
      "execution_count": 157,
      "metadata": {
        "id": "a_5QeWiOydeK"
      },
      "outputs": [],
      "source": [
        "# drop foaling date column\n",
        "df = df.drop(columns = [\"FoalingDate\"])"
      ]
    },
    {
      "cell_type": "code",
      "execution_count": 158,
      "metadata": {
        "id": "d-bb8ui20lSe"
      },
      "outputs": [],
      "source": [
        "# break finish position into place and DNF reason\n",
        "df[\"DNFReason\"] = df[\"FinishPosition\"].astype(str).str.replace(\"1\",\"\").astype(str)\n",
        "for i in [\"2\",\"3\",\"4\",\"5\",\"6\",\"7\",\"8\",\"9\",\"0\", \" \"]:\n",
        "  df[\"DNFReason\"] = df[\"DNFReason\"].astype(str).str.replace(i,\"\").astype(str)\n",
        "for i in [\"BS\",\"UN\",\"PU\",\"DQ\",\"FL\",\"NP\",\"UR\",\"WC\"]:\n",
        "  df[\"FinishPosition\"] = df[\"FinishPosition\"].astype(str).str.replace(i,'-1').astype(str)\n",
        "df[\"FinishPosition\"] = df[\"FinishPosition\"].astype(int)"
      ]
    },
    {
      "cell_type": "code",
      "execution_count": 159,
      "metadata": {
        "colab": {
          "base_uri": "https://localhost:8080/"
        },
        "id": "kfBTlVhTIMbY",
        "outputId": "66d421cc-70e2-47e8-ebc1-85a5ec030392"
      },
      "outputs": [
        {
          "output_type": "execute_result",
          "data": {
            "text/plain": [
              "0    1111506\n",
              "1      88906\n",
              "Name: Win, dtype: int64"
            ]
          },
          "metadata": {},
          "execution_count": 159
        }
      ],
      "source": [
        "# add win column\n",
        "df['Win'] = df[\"FinishPosition\"]\n",
        "for i in [\"2\",\"3\",\"4\",\"5\",\"6\",\"7\",\"8\",\"9\",\"0\", \"10\",\"11\",\"-1\"]:\n",
        "  df[\"Win\"] = df[\"Win\"].astype(str).str.replace(i,\"0\").astype(str)\n",
        "df[\"Win\"] = df[\"Win\"].astype(int)\n",
        "pd.value_counts(df.Win)"
      ]
    },
    {
      "cell_type": "code",
      "execution_count": 160,
      "metadata": {
        "id": "M2Q7Jx68EL4E"
      },
      "outputs": [],
      "source": [
        "# add dummy variables for categorical variables\n",
        "df = pd.get_dummies(df,columns=[\"CourseIndicator\", \"DNFReason\",\"Disqualified\", \"FoalingCountry\", \"Gender\", \"GoingAbbrev\", \"HandicapType\", \"RaceGroup\", \"RacingSubType\", \"SexRestriction\", \"StartType\", \"Surface\"], drop_first = True)"
      ]
    },
    {
      "cell_type": "code",
      "execution_count": 161,
      "metadata": {
        "id": "aNFlqUya_VdF"
      },
      "outputs": [],
      "source": [
        "# split data into train and test set\n",
        "train = df[df[\"RaceStartTime\"] < \"2021-11-01 00:00:00\"]\n",
        "test = df[df[\"RaceStartTime\"] >= \"2021-11-01 00:00:00\"]"
      ]
    },
    {
      "cell_type": "code",
      "execution_count": 162,
      "metadata": {
        "id": "13WPMu7pJLWR"
      },
      "outputs": [],
      "source": [
        "# remove RaceStartTime and columns\n",
        "train = train.drop(columns = [\"RaceStartTime\"])\n",
        "test = test.drop(columns = [\"RaceStartTime\"])"
      ]
    },
    {
      "cell_type": "markdown",
      "metadata": {
        "id": "_EQsNs75Ii-x"
      },
      "source": [
        "**Model 1 - drops all performance variables**"
      ]
    },
    {
      "cell_type": "code",
      "execution_count": 163,
      "metadata": {
        "id": "SkX3uENiLXbc"
      },
      "outputs": [],
      "source": [
        "# gets values for X and y\n",
        "y_train = train.Win.values\n",
        "X_train = train.drop(columns = [\"Win\", \"BeatenMargin\", 'Disqualified_True', \"FinishPosition\", 'DNFReason_BS',\n",
        "       'DNFReason_DQ', 'DNFReason_FL', 'DNFReason_NP', 'DNFReason_PU',\n",
        "       'DNFReason_UN', 'DNFReason_UR', 'DNFReason_WC', \"PIRPosition\", \"Prizemoney\", \"RaceOverallTime\",\n",
        "                             \"PriceSP\" , \"NoFrontCover\", \"PositionInRunning\" , \"WideOffRail\" ]).values\n",
        "y_test = test.Win.values\n",
        "X_test = test.drop(columns = [\"Win\", \"BeatenMargin\", 'Disqualified_True', \"FinishPosition\", 'DNFReason_BS',\n",
        "       'DNFReason_DQ', 'DNFReason_FL', 'DNFReason_NP', 'DNFReason_PU',\n",
        "       'DNFReason_UN', 'DNFReason_UR', 'DNFReason_WC', \"PIRPosition\", \"Prizemoney\", \"RaceOverallTime\",\n",
        "                             \"PriceSP\" , \"NoFrontCover\", \"PositionInRunning\" , \"WideOffRail\" ]).values"
      ]
    },
    {
      "cell_type": "code",
      "execution_count": 164,
      "metadata": {
        "id": "N_z4fdShKeJ_"
      },
      "outputs": [],
      "source": [
        "# define the logistic regression model\n",
        "logreg = LogisticRegression(solver='lbfgs', max_iter=10000)\n",
        "lr = logreg.fit(X_train, y_train)"
      ]
    },
    {
      "cell_type": "code",
      "execution_count": 165,
      "metadata": {
        "id": "30DZ0-6N13IJ"
      },
      "outputs": [],
      "source": [
        "# predict probabilities for win probability column for train data\n",
        "train['WinProbability'] = lr.predict_proba(X_train)[:,1]\n",
        "train['WinProbability'] = train['WinProbability'] / train.groupby('RaceID')['WinProbability'].transform('sum')"
      ]
    },
    {
      "cell_type": "code",
      "execution_count": 166,
      "metadata": {
        "id": "Q1Cq3vUnGYfR"
      },
      "outputs": [],
      "source": [
        "# predict probabilities for win probability column for test data\n",
        "test['WinProbability'] = lr.predict_proba(X_test)[:,1]\n",
        "test['WinProbability'] = test['WinProbability'] / test.groupby('RaceID')['WinProbability'].transform('sum')"
      ]
    },
    {
      "cell_type": "code",
      "execution_count": 167,
      "metadata": {
        "id": "FNfK0EMuUELw"
      },
      "outputs": [],
      "source": [
        "# predict the winner for each race by using the highest win probability\n",
        "train[\"PredictedWin\"] = 0\n",
        "train.loc[train.groupby('RaceID')['WinProbability'].transform(max) == train['WinProbability'],\"PredictedWin\"] = 1\n",
        "test[\"PredictedWin\"] = 0\n",
        "test.loc[test.groupby('RaceID')['WinProbability'].transform(max) == test['WinProbability'],\"PredictedWin\"] = 1"
      ]
    },
    {
      "cell_type": "code",
      "source": [
        "# First, get tp, tn, fp, fn\n",
        "tp = sum(np.logical_and(test['PredictedWin'] == 1, test['Win'] == 1))\n",
        "tn = sum(np.logical_and(test['PredictedWin'] == 0, test['Win'] == 0))\n",
        "fp = sum(np.logical_and(test['PredictedWin'] == 1, test['Win'] == 0))\n",
        "fn = sum(np.logical_and(test['PredictedWin'] == 0, test['Win'] == 1))\n",
        "\n",
        "print(f\"tp: {tp} tn: {tn} fp: {fp} fn: {fn}\")\n",
        "\n",
        "# Accuracy\n",
        "acc = (tp + tn) / (tp + tn + fp + fn)\n",
        "\n",
        "# Precision\n",
        "precision = tp / (tp + fp)\n",
        "\n",
        "# Recall\n",
        "recall = tp / (tp + fn)\n",
        "\n",
        "# Sensitivity\n",
        "sensitivity = recall\n",
        "\n",
        "# Specificity\n",
        "specificity = tn / (fp + tn)\n",
        "\n",
        "# Print results\n",
        "print(\"Accuracy:\",round(acc,3),\"Recall:\",round(recall,3),\"Precision:\",round(precision,3),\n",
        "          \"Sensitivity:\",round(sensitivity,3),\"Specificity:\",round(specificity,3))"
      ],
      "metadata": {
        "colab": {
          "base_uri": "https://localhost:8080/"
        },
        "id": "b3IdzXJlZsaa",
        "outputId": "103d7b01-4ee6-4760-a596-759e5b9962a7"
      },
      "execution_count": 168,
      "outputs": [
        {
          "output_type": "stream",
          "name": "stdout",
          "text": [
            "tp: 261 tn: 24098 fp: 1879 fn: 1882\n",
            "Accuracy: 0.866 Recall: 0.122 Precision: 0.122 Sensitivity: 0.122 Specificity: 0.928\n"
          ]
        }
      ]
    },
    {
      "cell_type": "markdown",
      "source": [
        "**Model 2 - put all performance variable to 0 in test set**"
      ],
      "metadata": {
        "id": "oXq0r2wbW2FG"
      }
    },
    {
      "cell_type": "code",
      "execution_count": 169,
      "metadata": {
        "colab": {
          "base_uri": "https://localhost:8080/"
        },
        "id": "0Y3Uirr7NI4L",
        "outputId": "25fedf0d-6237-4e72-b25f-6d4d21a9b7c5"
      },
      "outputs": [
        {
          "output_type": "stream",
          "name": "stderr",
          "text": [
            "<ipython-input-169-d542ea0a7c94>:9: DeprecationWarning: In a future version, `df.iloc[:, i] = newvals` will attempt to set the values inplace instead of always setting a new array. To retain the old behavior, use either `df[df.columns[i]] = newvals` or, if columns are non-unique, `df.isetitem(i, newvals)`\n",
            "  test2.loc[:, columns_to_zero] = 0\n"
          ]
        }
      ],
      "source": [
        "# get values for X and y\n",
        "columns_to_zero = [\"BeatenMargin\", 'Disqualified_True', \"FinishPosition\", 'DNFReason_BS',\n",
        "       'DNFReason_DQ', 'DNFReason_FL', 'DNFReason_NP', 'DNFReason_PU',\n",
        "       'DNFReason_UN', 'DNFReason_UR', 'DNFReason_WC', \"PIRPosition\", \"Prizemoney\", \"RaceOverallTime\",\n",
        "                             \"PriceSP\" , \"NoFrontCover\", \"PositionInRunning\" , \"WideOffRail\"]\n",
        "train2 = train\n",
        "test2 = test\n",
        "\n",
        "test2.loc[:, columns_to_zero] = 0\n",
        "\n",
        "y_train = train.Win.values\n",
        "X_train = train2.drop(columns = [\"Win\"]).values\n",
        "y_test = test.Win.values\n",
        "X_test = test2.drop(columns = [\"Win\"]).values"
      ]
    },
    {
      "cell_type": "code",
      "execution_count": 170,
      "metadata": {
        "id": "28m2VK0kQ9lX"
      },
      "outputs": [],
      "source": [
        "# define the logistic regression model\n",
        "logreg2 = LogisticRegression(solver='lbfgs', max_iter=10000)\n",
        "lr2 = logreg2.fit(X_train, y_train)"
      ]
    },
    {
      "cell_type": "code",
      "execution_count": 171,
      "metadata": {
        "id": "-ZscD_HFRJoO"
      },
      "outputs": [],
      "source": [
        "# predict probabilities for win probability column for train data\n",
        "train2['WinProbability'] = lr2.predict_proba(X_train)[:,1]\n",
        "train2['WinProbability'] = train2['WinProbability'] / train2.groupby('RaceID')['WinProbability'].transform('sum')"
      ]
    },
    {
      "cell_type": "code",
      "execution_count": 172,
      "metadata": {
        "id": "Nf8yK1R9RaiO"
      },
      "outputs": [],
      "source": [
        "# predict probabilities for win probability column for test data\n",
        "test2['WinProbability'] = lr2.predict_proba(X_test)[:,1]\n",
        "test2['WinProbability'] = test2['WinProbability'] / test2.groupby('RaceID')['WinProbability'].transform('sum')"
      ]
    },
    {
      "cell_type": "code",
      "source": [
        "# predict the winner for each race by using the highest win probability\n",
        "train2[\"PredictedWin\"] = 0\n",
        "train2.loc[train2.groupby('RaceID')['WinProbability'].transform(max) == train2['WinProbability'],\"PredictedWin\"] = 1\n",
        "test2[\"PredictedWin\"] = 0\n",
        "test2.loc[test2.groupby('RaceID')['WinProbability'].transform(max) == test2['WinProbability'],\"PredictedWin\"] = 1"
      ],
      "metadata": {
        "id": "5HBeRbpSXYqo"
      },
      "execution_count": 173,
      "outputs": []
    },
    {
      "cell_type": "code",
      "source": [
        "# First, get tp, tn, fp, fn\n",
        "tp = sum(np.logical_and(test2['PredictedWin'] == 1, test2['Win'] == 1))\n",
        "tn = sum(np.logical_and(test2['PredictedWin'] == 0, test2['Win'] == 0))\n",
        "fp = sum(np.logical_and(test2['PredictedWin'] == 1, test2['Win'] == 0))\n",
        "fn = sum(np.logical_and(test2['PredictedWin'] == 0, test2['Win'] == 1))\n",
        "\n",
        "print(f\"tp: {tp} tn: {tn} fp: {fp} fn: {fn}\")\n",
        "\n",
        "# Accuracy\n",
        "acc = (tp + tn) / (tp + tn + fp + fn)\n",
        "\n",
        "# Precision\n",
        "precision = tp / (tp + fp)\n",
        "\n",
        "# Recall\n",
        "recall = tp / (tp + fn)\n",
        "\n",
        "# Sensitivity\n",
        "sensitivity = recall\n",
        "\n",
        "# Specificity\n",
        "specificity = tn / (fp + tn)\n",
        "\n",
        "# Print results\n",
        "print(\"Accuracy:\",round(acc,3),\"Recall:\",round(recall,3),\"Precision:\",round(precision,3),\n",
        "          \"Sensitivity:\",round(sensitivity,3),\"Specificity:\",round(specificity,3))"
      ],
      "metadata": {
        "colab": {
          "base_uri": "https://localhost:8080/"
        },
        "id": "1x7WNtkSYKtD",
        "outputId": "4777d963-4c00-4b2d-ede5-4bcb573f3fbe"
      },
      "execution_count": 174,
      "outputs": [
        {
          "output_type": "stream",
          "name": "stdout",
          "text": [
            "tp: 238 tn: 24075 fp: 1902 fn: 1905\n",
            "Accuracy: 0.865 Recall: 0.111 Precision: 0.111 Sensitivity: 0.111 Specificity: 0.927\n"
          ]
        }
      ]
    },
    {
      "cell_type": "markdown",
      "source": [
        "**Model 1 ran better**"
      ],
      "metadata": {
        "id": "QkH37UxIdPp0"
      }
    },
    {
      "cell_type": "code",
      "source": [
        "# combine train and test (used model 1)\n",
        "final_data = pd.concat([train, test])\n",
        "final_data"
      ],
      "metadata": {
        "colab": {
          "base_uri": "https://localhost:8080/",
          "height": 444
        },
        "id": "x6g6CzxSc1Ia",
        "outputId": "4f4369f1-88b8-4bfa-c1ca-da325f8a6399"
      },
      "execution_count": 175,
      "outputs": [
        {
          "output_type": "execute_result",
          "data": {
            "text/plain": [
              "         Barrier  BeatenMargin    DamID  Distance  FinishPosition  FrontShoes  \\\n",
              "0              5          1.55  1491946    2150.0               2           0   \n",
              "1              6          3.55  1509392    2150.0               4           0   \n",
              "2              7          5.55  1507967    2150.0               6           0   \n",
              "3              8        999.00  1508536    2150.0              -1           0   \n",
              "4              9        999.00  1514055    2150.0              -1           0   \n",
              "...          ...           ...      ...       ...             ...         ...   \n",
              "1192908        0          0.00  1562349    2850.0               0           3   \n",
              "1192909        0          0.00  1555764    2850.0               0           2   \n",
              "1192910        0          0.00  1503535    2850.0               0           2   \n",
              "1192911        0          0.00  1510529    2850.0               0           2   \n",
              "1192912        0          0.00  1507795    2850.0               0           2   \n",
              "\n",
              "         GoingID  HandicapDistance  HindShoes  HorseAge  ...  RaceGroup_G3  \\\n",
              "0              4               0.0          0         6  ...             0   \n",
              "1              4               0.0          0         6  ...             0   \n",
              "2              4               0.0          0         6  ...             0   \n",
              "3              4               0.0          0         6  ...             0   \n",
              "4              4               0.0          0         6  ...             0   \n",
              "...          ...               ...        ...       ...  ...           ...   \n",
              "1192908        4               0.0          2         3  ...             0   \n",
              "1192909        4               0.0          2         3  ...             0   \n",
              "1192910        4               0.0          2         3  ...             0   \n",
              "1192911        4               0.0          2         3  ...             0   \n",
              "1192912        4               0.0          2         3  ...             0   \n",
              "\n",
              "         RacingSubType_TM  SexRestriction_C&G  SexRestriction_F  \\\n",
              "0                       0                   0                 0   \n",
              "1                       0                   0                 0   \n",
              "2                       0                   0                 0   \n",
              "3                       0                   0                 0   \n",
              "4                       0                   0                 0   \n",
              "...                   ...                 ...               ...   \n",
              "1192908                 0                   0                 1   \n",
              "1192909                 0                   0                 1   \n",
              "1192910                 0                   0                 1   \n",
              "1192911                 0                   0                 1   \n",
              "1192912                 0                   0                 1   \n",
              "\n",
              "         SexRestriction_M  StartType_V  Surface_S  Surface_T WinProbability  \\\n",
              "0                       1            0          1          0   3.201728e-04   \n",
              "1                       1            0          1          0   2.441597e-11   \n",
              "2                       1            0          1          0   7.196308e-14   \n",
              "3                       1            0          1          0   1.020950e-14   \n",
              "4                       1            0          1          0   1.084446e-14   \n",
              "...                   ...          ...        ...        ...            ...   \n",
              "1192908                 0            1          0          0   7.070688e-02   \n",
              "1192909                 0            1          0          0   7.131926e-02   \n",
              "1192910                 0            1          0          0   7.009350e-02   \n",
              "1192911                 0            1          0          0   7.355970e-02   \n",
              "1192912                 0            1          0          0   8.324155e-02   \n",
              "\n",
              "         PredictedWin  \n",
              "0                   0  \n",
              "1                   0  \n",
              "2                   0  \n",
              "3                   0  \n",
              "4                   0  \n",
              "...               ...  \n",
              "1192908             0  \n",
              "1192909             0  \n",
              "1192910             0  \n",
              "1192911             0  \n",
              "1192912             1  \n",
              "\n",
              "[1200412 rows x 85 columns]"
            ],
            "text/html": [
              "\n",
              "  <div id=\"df-f84b2fed-33ff-4e91-9953-64c0b2ab5ae5\" class=\"colab-df-container\">\n",
              "    <div>\n",
              "<style scoped>\n",
              "    .dataframe tbody tr th:only-of-type {\n",
              "        vertical-align: middle;\n",
              "    }\n",
              "\n",
              "    .dataframe tbody tr th {\n",
              "        vertical-align: top;\n",
              "    }\n",
              "\n",
              "    .dataframe thead th {\n",
              "        text-align: right;\n",
              "    }\n",
              "</style>\n",
              "<table border=\"1\" class=\"dataframe\">\n",
              "  <thead>\n",
              "    <tr style=\"text-align: right;\">\n",
              "      <th></th>\n",
              "      <th>Barrier</th>\n",
              "      <th>BeatenMargin</th>\n",
              "      <th>DamID</th>\n",
              "      <th>Distance</th>\n",
              "      <th>FinishPosition</th>\n",
              "      <th>FrontShoes</th>\n",
              "      <th>GoingID</th>\n",
              "      <th>HandicapDistance</th>\n",
              "      <th>HindShoes</th>\n",
              "      <th>HorseAge</th>\n",
              "      <th>...</th>\n",
              "      <th>RaceGroup_G3</th>\n",
              "      <th>RacingSubType_TM</th>\n",
              "      <th>SexRestriction_C&amp;G</th>\n",
              "      <th>SexRestriction_F</th>\n",
              "      <th>SexRestriction_M</th>\n",
              "      <th>StartType_V</th>\n",
              "      <th>Surface_S</th>\n",
              "      <th>Surface_T</th>\n",
              "      <th>WinProbability</th>\n",
              "      <th>PredictedWin</th>\n",
              "    </tr>\n",
              "  </thead>\n",
              "  <tbody>\n",
              "    <tr>\n",
              "      <th>0</th>\n",
              "      <td>5</td>\n",
              "      <td>1.55</td>\n",
              "      <td>1491946</td>\n",
              "      <td>2150.0</td>\n",
              "      <td>2</td>\n",
              "      <td>0</td>\n",
              "      <td>4</td>\n",
              "      <td>0.0</td>\n",
              "      <td>0</td>\n",
              "      <td>6</td>\n",
              "      <td>...</td>\n",
              "      <td>0</td>\n",
              "      <td>0</td>\n",
              "      <td>0</td>\n",
              "      <td>0</td>\n",
              "      <td>1</td>\n",
              "      <td>0</td>\n",
              "      <td>1</td>\n",
              "      <td>0</td>\n",
              "      <td>3.201728e-04</td>\n",
              "      <td>0</td>\n",
              "    </tr>\n",
              "    <tr>\n",
              "      <th>1</th>\n",
              "      <td>6</td>\n",
              "      <td>3.55</td>\n",
              "      <td>1509392</td>\n",
              "      <td>2150.0</td>\n",
              "      <td>4</td>\n",
              "      <td>0</td>\n",
              "      <td>4</td>\n",
              "      <td>0.0</td>\n",
              "      <td>0</td>\n",
              "      <td>6</td>\n",
              "      <td>...</td>\n",
              "      <td>0</td>\n",
              "      <td>0</td>\n",
              "      <td>0</td>\n",
              "      <td>0</td>\n",
              "      <td>1</td>\n",
              "      <td>0</td>\n",
              "      <td>1</td>\n",
              "      <td>0</td>\n",
              "      <td>2.441597e-11</td>\n",
              "      <td>0</td>\n",
              "    </tr>\n",
              "    <tr>\n",
              "      <th>2</th>\n",
              "      <td>7</td>\n",
              "      <td>5.55</td>\n",
              "      <td>1507967</td>\n",
              "      <td>2150.0</td>\n",
              "      <td>6</td>\n",
              "      <td>0</td>\n",
              "      <td>4</td>\n",
              "      <td>0.0</td>\n",
              "      <td>0</td>\n",
              "      <td>6</td>\n",
              "      <td>...</td>\n",
              "      <td>0</td>\n",
              "      <td>0</td>\n",
              "      <td>0</td>\n",
              "      <td>0</td>\n",
              "      <td>1</td>\n",
              "      <td>0</td>\n",
              "      <td>1</td>\n",
              "      <td>0</td>\n",
              "      <td>7.196308e-14</td>\n",
              "      <td>0</td>\n",
              "    </tr>\n",
              "    <tr>\n",
              "      <th>3</th>\n",
              "      <td>8</td>\n",
              "      <td>999.00</td>\n",
              "      <td>1508536</td>\n",
              "      <td>2150.0</td>\n",
              "      <td>-1</td>\n",
              "      <td>0</td>\n",
              "      <td>4</td>\n",
              "      <td>0.0</td>\n",
              "      <td>0</td>\n",
              "      <td>6</td>\n",
              "      <td>...</td>\n",
              "      <td>0</td>\n",
              "      <td>0</td>\n",
              "      <td>0</td>\n",
              "      <td>0</td>\n",
              "      <td>1</td>\n",
              "      <td>0</td>\n",
              "      <td>1</td>\n",
              "      <td>0</td>\n",
              "      <td>1.020950e-14</td>\n",
              "      <td>0</td>\n",
              "    </tr>\n",
              "    <tr>\n",
              "      <th>4</th>\n",
              "      <td>9</td>\n",
              "      <td>999.00</td>\n",
              "      <td>1514055</td>\n",
              "      <td>2150.0</td>\n",
              "      <td>-1</td>\n",
              "      <td>0</td>\n",
              "      <td>4</td>\n",
              "      <td>0.0</td>\n",
              "      <td>0</td>\n",
              "      <td>6</td>\n",
              "      <td>...</td>\n",
              "      <td>0</td>\n",
              "      <td>0</td>\n",
              "      <td>0</td>\n",
              "      <td>0</td>\n",
              "      <td>1</td>\n",
              "      <td>0</td>\n",
              "      <td>1</td>\n",
              "      <td>0</td>\n",
              "      <td>1.084446e-14</td>\n",
              "      <td>0</td>\n",
              "    </tr>\n",
              "    <tr>\n",
              "      <th>...</th>\n",
              "      <td>...</td>\n",
              "      <td>...</td>\n",
              "      <td>...</td>\n",
              "      <td>...</td>\n",
              "      <td>...</td>\n",
              "      <td>...</td>\n",
              "      <td>...</td>\n",
              "      <td>...</td>\n",
              "      <td>...</td>\n",
              "      <td>...</td>\n",
              "      <td>...</td>\n",
              "      <td>...</td>\n",
              "      <td>...</td>\n",
              "      <td>...</td>\n",
              "      <td>...</td>\n",
              "      <td>...</td>\n",
              "      <td>...</td>\n",
              "      <td>...</td>\n",
              "      <td>...</td>\n",
              "      <td>...</td>\n",
              "      <td>...</td>\n",
              "    </tr>\n",
              "    <tr>\n",
              "      <th>1192908</th>\n",
              "      <td>0</td>\n",
              "      <td>0.00</td>\n",
              "      <td>1562349</td>\n",
              "      <td>2850.0</td>\n",
              "      <td>0</td>\n",
              "      <td>3</td>\n",
              "      <td>4</td>\n",
              "      <td>0.0</td>\n",
              "      <td>2</td>\n",
              "      <td>3</td>\n",
              "      <td>...</td>\n",
              "      <td>0</td>\n",
              "      <td>0</td>\n",
              "      <td>0</td>\n",
              "      <td>1</td>\n",
              "      <td>0</td>\n",
              "      <td>1</td>\n",
              "      <td>0</td>\n",
              "      <td>0</td>\n",
              "      <td>7.070688e-02</td>\n",
              "      <td>0</td>\n",
              "    </tr>\n",
              "    <tr>\n",
              "      <th>1192909</th>\n",
              "      <td>0</td>\n",
              "      <td>0.00</td>\n",
              "      <td>1555764</td>\n",
              "      <td>2850.0</td>\n",
              "      <td>0</td>\n",
              "      <td>2</td>\n",
              "      <td>4</td>\n",
              "      <td>0.0</td>\n",
              "      <td>2</td>\n",
              "      <td>3</td>\n",
              "      <td>...</td>\n",
              "      <td>0</td>\n",
              "      <td>0</td>\n",
              "      <td>0</td>\n",
              "      <td>1</td>\n",
              "      <td>0</td>\n",
              "      <td>1</td>\n",
              "      <td>0</td>\n",
              "      <td>0</td>\n",
              "      <td>7.131926e-02</td>\n",
              "      <td>0</td>\n",
              "    </tr>\n",
              "    <tr>\n",
              "      <th>1192910</th>\n",
              "      <td>0</td>\n",
              "      <td>0.00</td>\n",
              "      <td>1503535</td>\n",
              "      <td>2850.0</td>\n",
              "      <td>0</td>\n",
              "      <td>2</td>\n",
              "      <td>4</td>\n",
              "      <td>0.0</td>\n",
              "      <td>2</td>\n",
              "      <td>3</td>\n",
              "      <td>...</td>\n",
              "      <td>0</td>\n",
              "      <td>0</td>\n",
              "      <td>0</td>\n",
              "      <td>1</td>\n",
              "      <td>0</td>\n",
              "      <td>1</td>\n",
              "      <td>0</td>\n",
              "      <td>0</td>\n",
              "      <td>7.009350e-02</td>\n",
              "      <td>0</td>\n",
              "    </tr>\n",
              "    <tr>\n",
              "      <th>1192911</th>\n",
              "      <td>0</td>\n",
              "      <td>0.00</td>\n",
              "      <td>1510529</td>\n",
              "      <td>2850.0</td>\n",
              "      <td>0</td>\n",
              "      <td>2</td>\n",
              "      <td>4</td>\n",
              "      <td>0.0</td>\n",
              "      <td>2</td>\n",
              "      <td>3</td>\n",
              "      <td>...</td>\n",
              "      <td>0</td>\n",
              "      <td>0</td>\n",
              "      <td>0</td>\n",
              "      <td>1</td>\n",
              "      <td>0</td>\n",
              "      <td>1</td>\n",
              "      <td>0</td>\n",
              "      <td>0</td>\n",
              "      <td>7.355970e-02</td>\n",
              "      <td>0</td>\n",
              "    </tr>\n",
              "    <tr>\n",
              "      <th>1192912</th>\n",
              "      <td>0</td>\n",
              "      <td>0.00</td>\n",
              "      <td>1507795</td>\n",
              "      <td>2850.0</td>\n",
              "      <td>0</td>\n",
              "      <td>2</td>\n",
              "      <td>4</td>\n",
              "      <td>0.0</td>\n",
              "      <td>2</td>\n",
              "      <td>3</td>\n",
              "      <td>...</td>\n",
              "      <td>0</td>\n",
              "      <td>0</td>\n",
              "      <td>0</td>\n",
              "      <td>1</td>\n",
              "      <td>0</td>\n",
              "      <td>1</td>\n",
              "      <td>0</td>\n",
              "      <td>0</td>\n",
              "      <td>8.324155e-02</td>\n",
              "      <td>1</td>\n",
              "    </tr>\n",
              "  </tbody>\n",
              "</table>\n",
              "<p>1200412 rows × 85 columns</p>\n",
              "</div>\n",
              "    <div class=\"colab-df-buttons\">\n",
              "\n",
              "  <div class=\"colab-df-container\">\n",
              "    <button class=\"colab-df-convert\" onclick=\"convertToInteractive('df-f84b2fed-33ff-4e91-9953-64c0b2ab5ae5')\"\n",
              "            title=\"Convert this dataframe to an interactive table.\"\n",
              "            style=\"display:none;\">\n",
              "\n",
              "  <svg xmlns=\"http://www.w3.org/2000/svg\" height=\"24px\" viewBox=\"0 -960 960 960\">\n",
              "    <path d=\"M120-120v-720h720v720H120Zm60-500h600v-160H180v160Zm220 220h160v-160H400v160Zm0 220h160v-160H400v160ZM180-400h160v-160H180v160Zm440 0h160v-160H620v160ZM180-180h160v-160H180v160Zm440 0h160v-160H620v160Z\"/>\n",
              "  </svg>\n",
              "    </button>\n",
              "\n",
              "  <style>\n",
              "    .colab-df-container {\n",
              "      display:flex;\n",
              "      gap: 12px;\n",
              "    }\n",
              "\n",
              "    .colab-df-convert {\n",
              "      background-color: #E8F0FE;\n",
              "      border: none;\n",
              "      border-radius: 50%;\n",
              "      cursor: pointer;\n",
              "      display: none;\n",
              "      fill: #1967D2;\n",
              "      height: 32px;\n",
              "      padding: 0 0 0 0;\n",
              "      width: 32px;\n",
              "    }\n",
              "\n",
              "    .colab-df-convert:hover {\n",
              "      background-color: #E2EBFA;\n",
              "      box-shadow: 0px 1px 2px rgba(60, 64, 67, 0.3), 0px 1px 3px 1px rgba(60, 64, 67, 0.15);\n",
              "      fill: #174EA6;\n",
              "    }\n",
              "\n",
              "    .colab-df-buttons div {\n",
              "      margin-bottom: 4px;\n",
              "    }\n",
              "\n",
              "    [theme=dark] .colab-df-convert {\n",
              "      background-color: #3B4455;\n",
              "      fill: #D2E3FC;\n",
              "    }\n",
              "\n",
              "    [theme=dark] .colab-df-convert:hover {\n",
              "      background-color: #434B5C;\n",
              "      box-shadow: 0px 1px 3px 1px rgba(0, 0, 0, 0.15);\n",
              "      filter: drop-shadow(0px 1px 2px rgba(0, 0, 0, 0.3));\n",
              "      fill: #FFFFFF;\n",
              "    }\n",
              "  </style>\n",
              "\n",
              "    <script>\n",
              "      const buttonEl =\n",
              "        document.querySelector('#df-f84b2fed-33ff-4e91-9953-64c0b2ab5ae5 button.colab-df-convert');\n",
              "      buttonEl.style.display =\n",
              "        google.colab.kernel.accessAllowed ? 'block' : 'none';\n",
              "\n",
              "      async function convertToInteractive(key) {\n",
              "        const element = document.querySelector('#df-f84b2fed-33ff-4e91-9953-64c0b2ab5ae5');\n",
              "        const dataTable =\n",
              "          await google.colab.kernel.invokeFunction('convertToInteractive',\n",
              "                                                    [key], {});\n",
              "        if (!dataTable) return;\n",
              "\n",
              "        const docLinkHtml = 'Like what you see? Visit the ' +\n",
              "          '<a target=\"_blank\" href=https://colab.research.google.com/notebooks/data_table.ipynb>data table notebook</a>'\n",
              "          + ' to learn more about interactive tables.';\n",
              "        element.innerHTML = '';\n",
              "        dataTable['output_type'] = 'display_data';\n",
              "        await google.colab.output.renderOutput(dataTable, element);\n",
              "        const docLink = document.createElement('div');\n",
              "        docLink.innerHTML = docLinkHtml;\n",
              "        element.appendChild(docLink);\n",
              "      }\n",
              "    </script>\n",
              "  </div>\n",
              "\n",
              "\n",
              "<div id=\"df-f9d98efb-55c6-4932-b27d-5660f13a328a\">\n",
              "  <button class=\"colab-df-quickchart\" onclick=\"quickchart('df-f9d98efb-55c6-4932-b27d-5660f13a328a')\"\n",
              "            title=\"Suggest charts.\"\n",
              "            style=\"display:none;\">\n",
              "\n",
              "<svg xmlns=\"http://www.w3.org/2000/svg\" height=\"24px\"viewBox=\"0 0 24 24\"\n",
              "     width=\"24px\">\n",
              "    <g>\n",
              "        <path d=\"M19 3H5c-1.1 0-2 .9-2 2v14c0 1.1.9 2 2 2h14c1.1 0 2-.9 2-2V5c0-1.1-.9-2-2-2zM9 17H7v-7h2v7zm4 0h-2V7h2v10zm4 0h-2v-4h2v4z\"/>\n",
              "    </g>\n",
              "</svg>\n",
              "  </button>\n",
              "\n",
              "<style>\n",
              "  .colab-df-quickchart {\n",
              "      --bg-color: #E8F0FE;\n",
              "      --fill-color: #1967D2;\n",
              "      --hover-bg-color: #E2EBFA;\n",
              "      --hover-fill-color: #174EA6;\n",
              "      --disabled-fill-color: #AAA;\n",
              "      --disabled-bg-color: #DDD;\n",
              "  }\n",
              "\n",
              "  [theme=dark] .colab-df-quickchart {\n",
              "      --bg-color: #3B4455;\n",
              "      --fill-color: #D2E3FC;\n",
              "      --hover-bg-color: #434B5C;\n",
              "      --hover-fill-color: #FFFFFF;\n",
              "      --disabled-bg-color: #3B4455;\n",
              "      --disabled-fill-color: #666;\n",
              "  }\n",
              "\n",
              "  .colab-df-quickchart {\n",
              "    background-color: var(--bg-color);\n",
              "    border: none;\n",
              "    border-radius: 50%;\n",
              "    cursor: pointer;\n",
              "    display: none;\n",
              "    fill: var(--fill-color);\n",
              "    height: 32px;\n",
              "    padding: 0;\n",
              "    width: 32px;\n",
              "  }\n",
              "\n",
              "  .colab-df-quickchart:hover {\n",
              "    background-color: var(--hover-bg-color);\n",
              "    box-shadow: 0 1px 2px rgba(60, 64, 67, 0.3), 0 1px 3px 1px rgba(60, 64, 67, 0.15);\n",
              "    fill: var(--button-hover-fill-color);\n",
              "  }\n",
              "\n",
              "  .colab-df-quickchart-complete:disabled,\n",
              "  .colab-df-quickchart-complete:disabled:hover {\n",
              "    background-color: var(--disabled-bg-color);\n",
              "    fill: var(--disabled-fill-color);\n",
              "    box-shadow: none;\n",
              "  }\n",
              "\n",
              "  .colab-df-spinner {\n",
              "    border: 2px solid var(--fill-color);\n",
              "    border-color: transparent;\n",
              "    border-bottom-color: var(--fill-color);\n",
              "    animation:\n",
              "      spin 1s steps(1) infinite;\n",
              "  }\n",
              "\n",
              "  @keyframes spin {\n",
              "    0% {\n",
              "      border-color: transparent;\n",
              "      border-bottom-color: var(--fill-color);\n",
              "      border-left-color: var(--fill-color);\n",
              "    }\n",
              "    20% {\n",
              "      border-color: transparent;\n",
              "      border-left-color: var(--fill-color);\n",
              "      border-top-color: var(--fill-color);\n",
              "    }\n",
              "    30% {\n",
              "      border-color: transparent;\n",
              "      border-left-color: var(--fill-color);\n",
              "      border-top-color: var(--fill-color);\n",
              "      border-right-color: var(--fill-color);\n",
              "    }\n",
              "    40% {\n",
              "      border-color: transparent;\n",
              "      border-right-color: var(--fill-color);\n",
              "      border-top-color: var(--fill-color);\n",
              "    }\n",
              "    60% {\n",
              "      border-color: transparent;\n",
              "      border-right-color: var(--fill-color);\n",
              "    }\n",
              "    80% {\n",
              "      border-color: transparent;\n",
              "      border-right-color: var(--fill-color);\n",
              "      border-bottom-color: var(--fill-color);\n",
              "    }\n",
              "    90% {\n",
              "      border-color: transparent;\n",
              "      border-bottom-color: var(--fill-color);\n",
              "    }\n",
              "  }\n",
              "</style>\n",
              "\n",
              "  <script>\n",
              "    async function quickchart(key) {\n",
              "      const quickchartButtonEl =\n",
              "        document.querySelector('#' + key + ' button');\n",
              "      quickchartButtonEl.disabled = true;  // To prevent multiple clicks.\n",
              "      quickchartButtonEl.classList.add('colab-df-spinner');\n",
              "      try {\n",
              "        const charts = await google.colab.kernel.invokeFunction(\n",
              "            'suggestCharts', [key], {});\n",
              "      } catch (error) {\n",
              "        console.error('Error during call to suggestCharts:', error);\n",
              "      }\n",
              "      quickchartButtonEl.classList.remove('colab-df-spinner');\n",
              "      quickchartButtonEl.classList.add('colab-df-quickchart-complete');\n",
              "    }\n",
              "    (() => {\n",
              "      let quickchartButtonEl =\n",
              "        document.querySelector('#df-f9d98efb-55c6-4932-b27d-5660f13a328a button');\n",
              "      quickchartButtonEl.style.display =\n",
              "        google.colab.kernel.accessAllowed ? 'block' : 'none';\n",
              "    })();\n",
              "  </script>\n",
              "</div>\n",
              "    </div>\n",
              "  </div>\n"
            ]
          },
          "metadata": {},
          "execution_count": 175
        }
      ]
    },
    {
      "cell_type": "code",
      "source": [
        "# write the final data that contains the win probability column to a parquet file\n",
        "final_data.to_parquet('final_data.parquet')"
      ],
      "metadata": {
        "id": "cv6dnNUydYDd"
      },
      "execution_count": 176,
      "outputs": []
    }
  ],
  "metadata": {
    "colab": {
      "provenance": []
    },
    "kernelspec": {
      "display_name": "Python 3",
      "name": "python3"
    },
    "language_info": {
      "name": "python"
    }
  },
  "nbformat": 4,
  "nbformat_minor": 0
}